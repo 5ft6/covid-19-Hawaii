{
  "nbformat": 4,
  "nbformat_minor": 0,
  "metadata": {
    "colab": {
      "name": "Covid-19-Hawaii.ipynb",
      "provenance": [],
      "collapsed_sections": [],
      "include_colab_link": true
    },
    "kernelspec": {
      "name": "python3",
      "display_name": "Python 3"
    }
  },
  "cells": [
    {
      "cell_type": "markdown",
      "metadata": {
        "id": "view-in-github",
        "colab_type": "text"
      },
      "source": [
        "<a href=\"https://colab.research.google.com/github/debasisb/covid-19-Hawaii/blob/master/Covid_19_Hawaii.ipynb\" target=\"_parent\"><img src=\"https://colab.research.google.com/assets/colab-badge.svg\" alt=\"Open In Colab\"/></a>"
      ]
    },
    {
      "cell_type": "markdown",
      "metadata": {
        "id": "10UY-A6kXDlS",
        "colab_type": "text"
      },
      "source": [
        ""
      ]
    },
    {
      "cell_type": "markdown",
      "metadata": {
        "id": "7CXyKDfqXNjs",
        "colab_type": "text"
      },
      "source": [
        "Covid-19 Analysis - April 16, 2020\n",
        "\n",
        "Source: The original code for the national data is from Noah Gift's book on Minimal Python. Github Source - https://github.com/debasisb/minimal-python/blob/master/Chapter7_data_science.ipynb\n"
      ]
    },
    {
      "cell_type": "markdown",
      "metadata": {
        "id": "8TjEPd1-XqRu",
        "colab_type": "text"
      },
      "source": [
        "Import pandas and create a dataframe df for the US Covid-19 data from the NY Times GitHub content"
      ]
    },
    {
      "cell_type": "code",
      "metadata": {
        "id": "I0nWZE0mLDIb",
        "colab_type": "code",
        "outputId": "d6a5d9dd-045c-4834-d14c-5e0249e9503f",
        "colab": {
          "base_uri": "https://localhost:8080/",
          "height": 204
        }
      },
      "source": [
        "import pandas as pd\n",
        "df = pd.read_csv(\"https://raw.githubusercontent.com/nytimes/covid-19-data/master/us-states.csv\")\n",
        "df.head()"
      ],
      "execution_count": 1,
      "outputs": [
        {
          "output_type": "execute_result",
          "data": {
            "text/html": [
              "<div>\n",
              "<style scoped>\n",
              "    .dataframe tbody tr th:only-of-type {\n",
              "        vertical-align: middle;\n",
              "    }\n",
              "\n",
              "    .dataframe tbody tr th {\n",
              "        vertical-align: top;\n",
              "    }\n",
              "\n",
              "    .dataframe thead th {\n",
              "        text-align: right;\n",
              "    }\n",
              "</style>\n",
              "<table border=\"1\" class=\"dataframe\">\n",
              "  <thead>\n",
              "    <tr style=\"text-align: right;\">\n",
              "      <th></th>\n",
              "      <th>date</th>\n",
              "      <th>state</th>\n",
              "      <th>fips</th>\n",
              "      <th>cases</th>\n",
              "      <th>deaths</th>\n",
              "    </tr>\n",
              "  </thead>\n",
              "  <tbody>\n",
              "    <tr>\n",
              "      <th>0</th>\n",
              "      <td>2020-01-21</td>\n",
              "      <td>Washington</td>\n",
              "      <td>53</td>\n",
              "      <td>1</td>\n",
              "      <td>0</td>\n",
              "    </tr>\n",
              "    <tr>\n",
              "      <th>1</th>\n",
              "      <td>2020-01-22</td>\n",
              "      <td>Washington</td>\n",
              "      <td>53</td>\n",
              "      <td>1</td>\n",
              "      <td>0</td>\n",
              "    </tr>\n",
              "    <tr>\n",
              "      <th>2</th>\n",
              "      <td>2020-01-23</td>\n",
              "      <td>Washington</td>\n",
              "      <td>53</td>\n",
              "      <td>1</td>\n",
              "      <td>0</td>\n",
              "    </tr>\n",
              "    <tr>\n",
              "      <th>3</th>\n",
              "      <td>2020-01-24</td>\n",
              "      <td>Illinois</td>\n",
              "      <td>17</td>\n",
              "      <td>1</td>\n",
              "      <td>0</td>\n",
              "    </tr>\n",
              "    <tr>\n",
              "      <th>4</th>\n",
              "      <td>2020-01-24</td>\n",
              "      <td>Washington</td>\n",
              "      <td>53</td>\n",
              "      <td>1</td>\n",
              "      <td>0</td>\n",
              "    </tr>\n",
              "  </tbody>\n",
              "</table>\n",
              "</div>"
            ],
            "text/plain": [
              "         date       state  fips  cases  deaths\n",
              "0  2020-01-21  Washington    53      1       0\n",
              "1  2020-01-22  Washington    53      1       0\n",
              "2  2020-01-23  Washington    53      1       0\n",
              "3  2020-01-24    Illinois    17      1       0\n",
              "4  2020-01-24  Washington    53      1       0"
            ]
          },
          "metadata": {
            "tags": []
          },
          "execution_count": 1
        }
      ]
    },
    {
      "cell_type": "markdown",
      "metadata": {
        "id": "UIdyIaYaX49x",
        "colab_type": "text"
      },
      "source": [
        "Display the columns of the data frame df. Shape is the dimensions of the data frame selected or the # rows and # of columns"
      ]
    },
    {
      "cell_type": "code",
      "metadata": {
        "id": "PU1XbMQNLUCm",
        "colab_type": "code",
        "outputId": "8af84e6a-ff31-406f-b535-ac274d8d85bf",
        "colab": {
          "base_uri": "https://localhost:8080/",
          "height": 34
        }
      },
      "source": [
        "df.columns"
      ],
      "execution_count": 2,
      "outputs": [
        {
          "output_type": "execute_result",
          "data": {
            "text/plain": [
              "Index(['date', 'state', 'fips', 'cases', 'deaths'], dtype='object')"
            ]
          },
          "metadata": {
            "tags": []
          },
          "execution_count": 2
        }
      ]
    },
    {
      "cell_type": "code",
      "metadata": {
        "id": "HpwaHJjzx03V",
        "colab_type": "code",
        "outputId": "505819cc-dbea-4c7d-c70d-153f5b899a1e",
        "colab": {
          "base_uri": "https://localhost:8080/",
          "height": 34
        }
      },
      "source": [
        "df.shape"
      ],
      "execution_count": 3,
      "outputs": [
        {
          "output_type": "execute_result",
          "data": {
            "text/plain": [
              "(2889, 5)"
            ]
          },
          "metadata": {
            "tags": []
          },
          "execution_count": 3
        }
      ]
    },
    {
      "cell_type": "markdown",
      "metadata": {
        "id": "2_skgaNjYJY9",
        "colab_type": "text"
      },
      "source": [
        "The Seaborn visualization package, is a plotting and graphical package that is used to display data on histograms, scatterplot etc."
      ]
    },
    {
      "cell_type": "code",
      "metadata": {
        "id": "0Ya4GMUfLXvW",
        "colab_type": "code",
        "outputId": "ef826f8a-c8bc-4869-de8d-3e7c7f49110b",
        "colab": {
          "base_uri": "https://localhost:8080/",
          "height": 350
        }
      },
      "source": [
        "import seaborn as sns\n",
        "sns.scatterplot (x=\"cases\", y=\"deaths\", \n",
        "                hue=\"deaths\",size=\"deaths\", data=df)"
      ],
      "execution_count": 4,
      "outputs": [
        {
          "output_type": "stream",
          "text": [
            "/usr/local/lib/python3.6/dist-packages/statsmodels/tools/_testing.py:19: FutureWarning: pandas.util.testing is deprecated. Use the functions in the public API at pandas.testing instead.\n",
            "  import pandas.util.testing as tm\n"
          ],
          "name": "stderr"
        },
        {
          "output_type": "execute_result",
          "data": {
            "text/plain": [
              "<matplotlib.axes._subplots.AxesSubplot at 0x7f47fbe74f98>"
            ]
          },
          "metadata": {
            "tags": []
          },
          "execution_count": 4
        },
        {
          "output_type": "display_data",
          "data": {
            "image/png": "[encoded data removed]",
            "text/plain": [
              "<Figure size 432x288 with 1 Axes>"
            ]
          },
          "metadata": {
            "tags": [],
            "needs_background": "light"
          }
        }
      ]
    },
    {
      "cell_type": "markdown",
      "metadata": {
        "id": "G8Ylm0vIZAi9",
        "colab_type": "text"
      },
      "source": [
        "Create an index of Dates from the source of the data till latest date"
      ]
    },
    {
      "cell_type": "code",
      "metadata": {
        "id": "nAp3c0o3M2B9",
        "colab_type": "code",
        "outputId": "a3863d6c-5538-4b54-89ca-b0b41cc4af3c",
        "colab": {
          "base_uri": "https://localhost:8080/",
          "height": 170
        }
      },
      "source": [
        "df = pd.read_csv(\"https://raw.githubusercontent.com/nytimes/covid-19-data/master/us-states.csv\")\n",
        "df[\"date\"] = pd.to_datetime(df[\"date\"])\n",
        "df = df.set_index(\"date\")\n",
        "print(f\"Columns: {df.columns}\")\n",
        "df.index"
      ],
      "execution_count": 5,
      "outputs": [
        {
          "output_type": "stream",
          "text": [
            "Columns: Index(['state', 'fips', 'cases', 'deaths'], dtype='object')\n"
          ],
          "name": "stdout"
        },
        {
          "output_type": "execute_result",
          "data": {
            "text/plain": [
              "DatetimeIndex(['2020-01-21', '2020-01-22', '2020-01-23', '2020-01-24',\n",
              "               '2020-01-24', '2020-01-25', '2020-01-25', '2020-01-25',\n",
              "               '2020-01-26', '2020-01-26',\n",
              "               ...\n",
              "               '2020-04-23', '2020-04-23', '2020-04-23', '2020-04-23',\n",
              "               '2020-04-23', '2020-04-23', '2020-04-23', '2020-04-23',\n",
              "               '2020-04-23', '2020-04-23'],\n",
              "              dtype='datetime64[ns]', name='date', length=2889, freq=None)"
            ]
          },
          "metadata": {
            "tags": []
          },
          "execution_count": 5
        }
      ]
    },
    {
      "cell_type": "markdown",
      "metadata": {
        "id": "GhnSoCPxZKk2",
        "colab_type": "text"
      },
      "source": [
        "Create the date for today, and the date two days ago (for the latest data for 2 days)"
      ]
    },
    {
      "cell_type": "code",
      "metadata": {
        "id": "1VwX1t6LNBYI",
        "colab_type": "code",
        "outputId": "7deb94f5-3285-4364-cee0-0f7af157106f",
        "colab": {
          "base_uri": "https://localhost:8080/",
          "height": 51
        }
      },
      "source": [
        "from datetime import date, timedelta\n",
        "today = date.today()\n",
        "daybefore = today - timedelta(days = 2)\n",
        "print(f\"Today {today}\")\n",
        "print(f\"Two days ago {daybefore}\")"
      ],
      "execution_count": 6,
      "outputs": [
        {
          "output_type": "stream",
          "text": [
            "Today 2020-04-25\n",
            "Two days ago 2020-04-23\n"
          ],
          "name": "stdout"
        }
      ]
    },
    {
      "cell_type": "markdown",
      "metadata": {
        "id": "r1KsbzFIZm7b",
        "colab_type": "text"
      },
      "source": [
        "Display the top 10 rows of data or head(10), bottom rows is tail()"
      ]
    },
    {
      "cell_type": "code",
      "metadata": {
        "id": "o7uEH2qKNfYQ",
        "colab_type": "code",
        "outputId": "97ce42f4-43b5-4ce9-c837-0f170a2aac17",
        "colab": {
          "base_uri": "https://localhost:8080/",
          "height": 390
        }
      },
      "source": [
        "df.loc[daybefore:today].tail(10)"
      ],
      "execution_count": 7,
      "outputs": [
        {
          "output_type": "execute_result",
          "data": {
            "text/html": [
              "<div>\n",
              "<style scoped>\n",
              "    .dataframe tbody tr th:only-of-type {\n",
              "        vertical-align: middle;\n",
              "    }\n",
              "\n",
              "    .dataframe tbody tr th {\n",
              "        vertical-align: top;\n",
              "    }\n",
              "\n",
              "    .dataframe thead th {\n",
              "        text-align: right;\n",
              "    }\n",
              "</style>\n",
              "<table border=\"1\" class=\"dataframe\">\n",
              "  <thead>\n",
              "    <tr style=\"text-align: right;\">\n",
              "      <th></th>\n",
              "      <th>state</th>\n",
              "      <th>fips</th>\n",
              "      <th>cases</th>\n",
              "      <th>deaths</th>\n",
              "    </tr>\n",
              "    <tr>\n",
              "      <th>date</th>\n",
              "      <th></th>\n",
              "      <th></th>\n",
              "      <th></th>\n",
              "      <th></th>\n",
              "    </tr>\n",
              "  </thead>\n",
              "  <tbody>\n",
              "    <tr>\n",
              "      <th>2020-04-23</th>\n",
              "      <td>Tennessee</td>\n",
              "      <td>47</td>\n",
              "      <td>8230</td>\n",
              "      <td>180</td>\n",
              "    </tr>\n",
              "    <tr>\n",
              "      <th>2020-04-23</th>\n",
              "      <td>Texas</td>\n",
              "      <td>48</td>\n",
              "      <td>22706</td>\n",
              "      <td>601</td>\n",
              "    </tr>\n",
              "    <tr>\n",
              "      <th>2020-04-23</th>\n",
              "      <td>Utah</td>\n",
              "      <td>49</td>\n",
              "      <td>3621</td>\n",
              "      <td>35</td>\n",
              "    </tr>\n",
              "    <tr>\n",
              "      <th>2020-04-23</th>\n",
              "      <td>Vermont</td>\n",
              "      <td>50</td>\n",
              "      <td>825</td>\n",
              "      <td>43</td>\n",
              "    </tr>\n",
              "    <tr>\n",
              "      <th>2020-04-23</th>\n",
              "      <td>Virgin Islands</td>\n",
              "      <td>78</td>\n",
              "      <td>54</td>\n",
              "      <td>3</td>\n",
              "    </tr>\n",
              "    <tr>\n",
              "      <th>2020-04-23</th>\n",
              "      <td>Virginia</td>\n",
              "      <td>51</td>\n",
              "      <td>11000</td>\n",
              "      <td>375</td>\n",
              "    </tr>\n",
              "    <tr>\n",
              "      <th>2020-04-23</th>\n",
              "      <td>Washington</td>\n",
              "      <td>53</td>\n",
              "      <td>12906</td>\n",
              "      <td>717</td>\n",
              "    </tr>\n",
              "    <tr>\n",
              "      <th>2020-04-23</th>\n",
              "      <td>West Virginia</td>\n",
              "      <td>54</td>\n",
              "      <td>981</td>\n",
              "      <td>31</td>\n",
              "    </tr>\n",
              "    <tr>\n",
              "      <th>2020-04-23</th>\n",
              "      <td>Wisconsin</td>\n",
              "      <td>55</td>\n",
              "      <td>5052</td>\n",
              "      <td>257</td>\n",
              "    </tr>\n",
              "    <tr>\n",
              "      <th>2020-04-23</th>\n",
              "      <td>Wyoming</td>\n",
              "      <td>56</td>\n",
              "      <td>332</td>\n",
              "      <td>7</td>\n",
              "    </tr>\n",
              "  </tbody>\n",
              "</table>\n",
              "</div>"
            ],
            "text/plain": [
              "                     state  fips  cases  deaths\n",
              "date                                           \n",
              "2020-04-23       Tennessee    47   8230     180\n",
              "2020-04-23           Texas    48  22706     601\n",
              "2020-04-23            Utah    49   3621      35\n",
              "2020-04-23         Vermont    50    825      43\n",
              "2020-04-23  Virgin Islands    78     54       3\n",
              "2020-04-23        Virginia    51  11000     375\n",
              "2020-04-23      Washington    53  12906     717\n",
              "2020-04-23   West Virginia    54    981      31\n",
              "2020-04-23       Wisconsin    55   5052     257\n",
              "2020-04-23         Wyoming    56    332       7"
            ]
          },
          "metadata": {
            "tags": []
          },
          "execution_count": 7
        }
      ]
    },
    {
      "cell_type": "code",
      "metadata": {
        "id": "dJpmfYbKNj9R",
        "colab_type": "code",
        "outputId": "9d85c8ff-b837-4b61-cf03-d07a229d4644",
        "colab": {
          "base_uri": "https://localhost:8080/",
          "height": 285
        }
      },
      "source": [
        "sns.kdeplot(df.loc[daybefore:today][\"deaths\"], shade=True)"
      ],
      "execution_count": 8,
      "outputs": [
        {
          "output_type": "execute_result",
          "data": {
            "text/plain": [
              "<matplotlib.axes._subplots.AxesSubplot at 0x7f47f8e07a90>"
            ]
          },
          "metadata": {
            "tags": []
          },
          "execution_count": 8
        },
        {
          "output_type": "display_data",
          "data": {
            "image/png": "[encoded data removed]",
            "text/plain": [
              "<Figure size 432x288 with 1 Axes>"
            ]
          },
          "metadata": {
            "tags": [],
            "needs_background": "light"
          }
        }
      ]
    },
    {
      "cell_type": "code",
      "metadata": {
        "id": "FIUEiH3TZzBB",
        "colab_type": "code",
        "outputId": "d2815cdd-ddd8-4dc7-cc26-d5b42c44c894",
        "colab": {
          "base_uri": "https://localhost:8080/",
          "height": 293
        }
      },
      "source": [
        "sns.kdeplot(df.loc[daybefore:today][\"cases\"], shade=True)"
      ],
      "execution_count": 9,
      "outputs": [
        {
          "output_type": "execute_result",
          "data": {
            "text/plain": [
              "<matplotlib.axes._subplots.AxesSubplot at 0x7f47f891c0f0>"
            ]
          },
          "metadata": {
            "tags": []
          },
          "execution_count": 9
        },
        {
          "output_type": "display_data",
          "data": {
            "image/png": "[encoded data removed]",
            "text/plain": [
              "<Figure size 432x288 with 1 Axes>"
            ]
          },
          "metadata": {
            "tags": [],
            "needs_background": "light"
          }
        }
      ]
    },
    {
      "cell_type": "markdown",
      "metadata": {
        "id": "v5TJB9l5adf7",
        "colab_type": "text"
      },
      "source": [
        "Create a data frame the identifies the top 10 states, sort by deaths and cases"
      ]
    },
    {
      "cell_type": "code",
      "metadata": {
        "id": "UaD93U-mNoea",
        "colab_type": "code",
        "outputId": "efbdf223-0775-45a3-ddfc-db22b4bf8986",
        "colab": {
          "base_uri": "https://localhost:8080/",
          "height": 390
        }
      },
      "source": [
        "current_df = df.loc[daybefore:today].sort_values(by=[\"deaths\", \"cases\"], ascending=False)\n",
        "current_df.head(10)"
      ],
      "execution_count": 10,
      "outputs": [
        {
          "output_type": "execute_result",
          "data": {
            "text/html": [
              "<div>\n",
              "<style scoped>\n",
              "    .dataframe tbody tr th:only-of-type {\n",
              "        vertical-align: middle;\n",
              "    }\n",
              "\n",
              "    .dataframe tbody tr th {\n",
              "        vertical-align: top;\n",
              "    }\n",
              "\n",
              "    .dataframe thead th {\n",
              "        text-align: right;\n",
              "    }\n",
              "</style>\n",
              "<table border=\"1\" class=\"dataframe\">\n",
              "  <thead>\n",
              "    <tr style=\"text-align: right;\">\n",
              "      <th></th>\n",
              "      <th>state</th>\n",
              "      <th>fips</th>\n",
              "      <th>cases</th>\n",
              "      <th>deaths</th>\n",
              "    </tr>\n",
              "    <tr>\n",
              "      <th>date</th>\n",
              "      <th></th>\n",
              "      <th></th>\n",
              "      <th></th>\n",
              "      <th></th>\n",
              "    </tr>\n",
              "  </thead>\n",
              "  <tbody>\n",
              "    <tr>\n",
              "      <th>2020-04-23</th>\n",
              "      <td>New York</td>\n",
              "      <td>36</td>\n",
              "      <td>263460</td>\n",
              "      <td>15740</td>\n",
              "    </tr>\n",
              "    <tr>\n",
              "      <th>2020-04-23</th>\n",
              "      <td>New Jersey</td>\n",
              "      <td>34</td>\n",
              "      <td>99989</td>\n",
              "      <td>5368</td>\n",
              "    </tr>\n",
              "    <tr>\n",
              "      <th>2020-04-23</th>\n",
              "      <td>Michigan</td>\n",
              "      <td>26</td>\n",
              "      <td>35252</td>\n",
              "      <td>2977</td>\n",
              "    </tr>\n",
              "    <tr>\n",
              "      <th>2020-04-23</th>\n",
              "      <td>Massachusetts</td>\n",
              "      <td>25</td>\n",
              "      <td>46023</td>\n",
              "      <td>2360</td>\n",
              "    </tr>\n",
              "    <tr>\n",
              "      <th>2020-04-23</th>\n",
              "      <td>Pennsylvania</td>\n",
              "      <td>42</td>\n",
              "      <td>38334</td>\n",
              "      <td>1713</td>\n",
              "    </tr>\n",
              "    <tr>\n",
              "      <th>2020-04-23</th>\n",
              "      <td>Illinois</td>\n",
              "      <td>17</td>\n",
              "      <td>36935</td>\n",
              "      <td>1696</td>\n",
              "    </tr>\n",
              "    <tr>\n",
              "      <th>2020-04-23</th>\n",
              "      <td>Connecticut</td>\n",
              "      <td>9</td>\n",
              "      <td>23100</td>\n",
              "      <td>1639</td>\n",
              "    </tr>\n",
              "    <tr>\n",
              "      <th>2020-04-23</th>\n",
              "      <td>California</td>\n",
              "      <td>6</td>\n",
              "      <td>39534</td>\n",
              "      <td>1553</td>\n",
              "    </tr>\n",
              "    <tr>\n",
              "      <th>2020-04-23</th>\n",
              "      <td>Louisiana</td>\n",
              "      <td>22</td>\n",
              "      <td>25739</td>\n",
              "      <td>1540</td>\n",
              "    </tr>\n",
              "    <tr>\n",
              "      <th>2020-04-23</th>\n",
              "      <td>Florida</td>\n",
              "      <td>12</td>\n",
              "      <td>29640</td>\n",
              "      <td>986</td>\n",
              "    </tr>\n",
              "  </tbody>\n",
              "</table>\n",
              "</div>"
            ],
            "text/plain": [
              "                    state  fips   cases  deaths\n",
              "date                                           \n",
              "2020-04-23       New York    36  263460   15740\n",
              "2020-04-23     New Jersey    34   99989    5368\n",
              "2020-04-23       Michigan    26   35252    2977\n",
              "2020-04-23  Massachusetts    25   46023    2360\n",
              "2020-04-23   Pennsylvania    42   38334    1713\n",
              "2020-04-23       Illinois    17   36935    1696\n",
              "2020-04-23    Connecticut     9   23100    1639\n",
              "2020-04-23     California     6   39534    1553\n",
              "2020-04-23      Louisiana    22   25739    1540\n",
              "2020-04-23        Florida    12   29640     986"
            ]
          },
          "metadata": {
            "tags": []
          },
          "execution_count": 10
        }
      ]
    },
    {
      "cell_type": "code",
      "metadata": {
        "id": "iSgm6078NzVo",
        "colab_type": "code",
        "outputId": "f12c3cb4-d03f-467d-e673-78cfc313add8",
        "colab": {
          "base_uri": "https://localhost:8080/",
          "height": 34
        }
      },
      "source": [
        "current_df.shape"
      ],
      "execution_count": 11,
      "outputs": [
        {
          "output_type": "execute_result",
          "data": {
            "text/plain": [
              "(56, 4)"
            ]
          },
          "metadata": {
            "tags": []
          },
          "execution_count": 11
        }
      ]
    },
    {
      "cell_type": "code",
      "metadata": {
        "id": "tLmWg3qZOuZ2",
        "colab_type": "code",
        "outputId": "4710d703-9f11-47b2-9a96-3077f15b6d68",
        "colab": {
          "base_uri": "https://localhost:8080/",
          "height": 187
        }
      },
      "source": [
        "top_ten_states = list(current_df[\"state\"].head(10).values)\n",
        "top_ten_states"
      ],
      "execution_count": 21,
      "outputs": [
        {
          "output_type": "execute_result",
          "data": {
            "text/plain": [
              "['New York',\n",
              " 'New Jersey',\n",
              " 'Michigan',\n",
              " 'Massachusetts',\n",
              " 'Pennsylvania',\n",
              " 'Illinois',\n",
              " 'Connecticut',\n",
              " 'California',\n",
              " 'Louisiana',\n",
              " 'Florida']"
            ]
          },
          "metadata": {
            "tags": []
          },
          "execution_count": 21
        }
      ]
    },
    {
      "cell_type": "code",
      "metadata": {
        "id": "DOFsflOvPD_e",
        "colab_type": "code",
        "colab": {}
      },
      "source": [
        "top_states_df = df[df['state'].isin(top_ten_states)].drop(columns=\"fips\")"
      ],
      "execution_count": 0,
      "outputs": []
    },
    {
      "cell_type": "code",
      "metadata": {
        "id": "4gmoRMAMPNn8",
        "colab_type": "code",
        "outputId": "164a4ed7-4610-435e-f7aa-37ac2126f657",
        "colab": {
          "base_uri": "https://localhost:8080/",
          "height": 187
        }
      },
      "source": [
        "set(top_states_df.state.values)"
      ],
      "execution_count": 23,
      "outputs": [
        {
          "output_type": "execute_result",
          "data": {
            "text/plain": [
              "{'California',\n",
              " 'Connecticut',\n",
              " 'Florida',\n",
              " 'Illinois',\n",
              " 'Louisiana',\n",
              " 'Massachusetts',\n",
              " 'Michigan',\n",
              " 'New Jersey',\n",
              " 'New York',\n",
              " 'Pennsylvania'}"
            ]
          },
          "metadata": {
            "tags": []
          },
          "execution_count": 23
        }
      ]
    },
    {
      "cell_type": "markdown",
      "metadata": {
        "id": "7AcpBZfRa8Zl",
        "colab_type": "text"
      },
      "source": [
        "Use Seaborn to create a basic line plot for the top 10 states"
      ]
    },
    {
      "cell_type": "code",
      "metadata": {
        "id": "xvAA_Q6lPVr7",
        "colab_type": "code",
        "outputId": "2728bd7d-2e4f-4c9e-97e8-1c1b6b52b7c2",
        "colab": {
          "base_uri": "https://localhost:8080/",
          "height": 530
        }
      },
      "source": [
        "import seaborn as sns\n",
        "import matplotlib.pyplot as plt\n",
        "\n",
        "plt.figure(figsize=(15,5))\n",
        "ax = sns.lmplot(x=\"cases\", y=\"deaths\",\n",
        "                    height=3.5,\n",
        "                    col=\"state\",\n",
        "                    col_wrap=5,\n",
        "                    hue=\"state\", \n",
        "                    palette=\"Set2\",\n",
        "                    data=top_states_df)\n",
        "ax.fig.subplots_adjust(wspace=.2)"
      ],
      "execution_count": 24,
      "outputs": [
        {
          "output_type": "display_data",
          "data": {
            "text/plain": [
              "<Figure size 1080x360 with 0 Axes>"
            ]
          },
          "metadata": {
            "tags": []
          }
        },
        {
          "output_type": "display_data",
          "data": {
            "image/png": "[encoded data removed]",
            "text/plain": [
              "<Figure size 1260x504 with 10 Axes>"
            ]
          },
          "metadata": {
            "tags": [],
            "needs_background": "light"
          }
        }
      ]
    },
    {
      "cell_type": "code",
      "metadata": {
        "id": "Lvoh2DDoQTwl",
        "colab_type": "code",
        "outputId": "ba409b9a-0402-4419-eb9c-11c0a10b497e",
        "colab": {
          "base_uri": "https://localhost:8080/",
          "height": 390
        }
      },
      "source": [
        "top_states_april_current_df = top_states_df.loc[\"2020-04-23\":today].sort_values(by=[\"deaths\", \"cases\"], ascending=False)\n",
        "top_states_april_current_df.head(12)"
      ],
      "execution_count": 31,
      "outputs": [
        {
          "output_type": "execute_result",
          "data": {
            "text/html": [
              "<div>\n",
              "<style scoped>\n",
              "    .dataframe tbody tr th:only-of-type {\n",
              "        vertical-align: middle;\n",
              "    }\n",
              "\n",
              "    .dataframe tbody tr th {\n",
              "        vertical-align: top;\n",
              "    }\n",
              "\n",
              "    .dataframe thead th {\n",
              "        text-align: right;\n",
              "    }\n",
              "</style>\n",
              "<table border=\"1\" class=\"dataframe\">\n",
              "  <thead>\n",
              "    <tr style=\"text-align: right;\">\n",
              "      <th></th>\n",
              "      <th>state</th>\n",
              "      <th>cases</th>\n",
              "      <th>deaths</th>\n",
              "    </tr>\n",
              "    <tr>\n",
              "      <th>date</th>\n",
              "      <th></th>\n",
              "      <th></th>\n",
              "      <th></th>\n",
              "    </tr>\n",
              "  </thead>\n",
              "  <tbody>\n",
              "    <tr>\n",
              "      <th>2020-04-23</th>\n",
              "      <td>New York</td>\n",
              "      <td>263460</td>\n",
              "      <td>15740</td>\n",
              "    </tr>\n",
              "    <tr>\n",
              "      <th>2020-04-23</th>\n",
              "      <td>New Jersey</td>\n",
              "      <td>99989</td>\n",
              "      <td>5368</td>\n",
              "    </tr>\n",
              "    <tr>\n",
              "      <th>2020-04-23</th>\n",
              "      <td>Michigan</td>\n",
              "      <td>35252</td>\n",
              "      <td>2977</td>\n",
              "    </tr>\n",
              "    <tr>\n",
              "      <th>2020-04-23</th>\n",
              "      <td>Massachusetts</td>\n",
              "      <td>46023</td>\n",
              "      <td>2360</td>\n",
              "    </tr>\n",
              "    <tr>\n",
              "      <th>2020-04-23</th>\n",
              "      <td>Pennsylvania</td>\n",
              "      <td>38334</td>\n",
              "      <td>1713</td>\n",
              "    </tr>\n",
              "    <tr>\n",
              "      <th>2020-04-23</th>\n",
              "      <td>Illinois</td>\n",
              "      <td>36935</td>\n",
              "      <td>1696</td>\n",
              "    </tr>\n",
              "    <tr>\n",
              "      <th>2020-04-23</th>\n",
              "      <td>Connecticut</td>\n",
              "      <td>23100</td>\n",
              "      <td>1639</td>\n",
              "    </tr>\n",
              "    <tr>\n",
              "      <th>2020-04-23</th>\n",
              "      <td>California</td>\n",
              "      <td>39534</td>\n",
              "      <td>1553</td>\n",
              "    </tr>\n",
              "    <tr>\n",
              "      <th>2020-04-23</th>\n",
              "      <td>Louisiana</td>\n",
              "      <td>25739</td>\n",
              "      <td>1540</td>\n",
              "    </tr>\n",
              "    <tr>\n",
              "      <th>2020-04-23</th>\n",
              "      <td>Florida</td>\n",
              "      <td>29640</td>\n",
              "      <td>986</td>\n",
              "    </tr>\n",
              "  </tbody>\n",
              "</table>\n",
              "</div>"
            ],
            "text/plain": [
              "                    state   cases  deaths\n",
              "date                                     \n",
              "2020-04-23       New York  263460   15740\n",
              "2020-04-23     New Jersey   99989    5368\n",
              "2020-04-23       Michigan   35252    2977\n",
              "2020-04-23  Massachusetts   46023    2360\n",
              "2020-04-23   Pennsylvania   38334    1713\n",
              "2020-04-23       Illinois   36935    1696\n",
              "2020-04-23    Connecticut   23100    1639\n",
              "2020-04-23     California   39534    1553\n",
              "2020-04-23      Louisiana   25739    1540\n",
              "2020-04-23        Florida   29640     986"
            ]
          },
          "metadata": {
            "tags": []
          },
          "execution_count": 31
        }
      ]
    },
    {
      "cell_type": "markdown",
      "metadata": {
        "id": "ybJsMeYkbk_s",
        "colab_type": "text"
      },
      "source": [
        "Use another popular graphical tool called Plotly. This shows a scatter plot for the month of April for the top 10 states"
      ]
    },
    {
      "cell_type": "code",
      "metadata": {
        "id": "E7xDXJQbQt19",
        "colab_type": "code",
        "outputId": "a2888002-24e3-4d62-e0fb-db0a1281af13",
        "colab": {
          "base_uri": "https://localhost:8080/",
          "height": 542
        }
      },
      "source": [
        "import plotly.io as pio\n",
        "pio.renderers.default = 'colab'\n",
        "import plotly.express as px\n",
        "fig = px.scatter(top_states_april_current_df, x=top_states_april_current_df.index, y=\"cases\", size=\"deaths\", color=\"state\", facet_col=\"state\")\n",
        "fig.show()"
      ],
      "execution_count": 32,
      "outputs": [
        {
          "output_type": "display_data",
          "data": {
            "text/html": [
              "<html>\n",
              "<head><meta charset=\"utf-8\" /></head>\n",
              "<body>\n",
              "    <div>\n",
              "            <script src=\"https://cdnjs.cloudflare.com/ajax/libs/mathjax/2.7.5/MathJax.js?config=TeX-AMS-MML_SVG\"></script><script type=\"text/javascript\">if (window.MathJax) {MathJax.Hub.Config({SVG: {font: \"STIX-Web\"}});}</script>\n",
              "                <script type=\"text/javascript\">window.PlotlyConfig = {MathJaxConfig: 'local'};</script>\n",
              "        <script src=\"https://cdn.plot.ly/plotly-latest.min.js\"></script>    \n",
              "            <div id=\"4aab0a52-5648-4599-b26e-e3e101da6118\" class=\"plotly-graph-div\" style=\"height:525px; width:100%;\"></div>\n",
              "            <script type=\"text/javascript\">\n",
              "                \n",
              "                    window.PLOTLYENV=window.PLOTLYENV || {};\n",
              "                    \n",
              "                if (document.getElementById(\"4aab0a52-5648-4599-b26e-e3e101da6118\")) {\n",
              "                    Plotly.newPlot(\n",
              "                        '4aab0a52-5648-4599-b26e-e3e101da6118',\n",
              "                        [{\"hoverlabel\": {\"namelength\": 0}, \"hovertemplate\": \"state=New York<br>x=%{x}<br>cases=%{y}<br>deaths=%{marker.size}\", \"legendgroup\": \"state=New York\", \"marker\": {\"color\": \"#636efa\", \"size\": [15740], \"sizemode\": \"area\", \"sizeref\": 39.35, \"symbol\": \"circle\"}, \"mode\": \"markers\", \"name\": \"state=New York\", \"showlegend\": true, \"type\": \"scatter\", \"x\": [\"2020-04-23T00:00:00\"], \"xaxis\": \"x\", \"y\": [263460], \"yaxis\": \"y\"}, {\"hoverlabel\": {\"namelength\": 0}, \"hovertemplate\": \"state=New Jersey<br>x=%{x}<br>cases=%{y}<br>deaths=%{marker.size}\", \"legendgroup\": \"state=New Jersey\", \"marker\": {\"color\": \"#EF553B\", \"size\": [5368], \"sizemode\": \"area\", \"sizeref\": 39.35, \"symbol\": \"circle\"}, \"mode\": \"markers\", \"name\": \"state=New Jersey\", \"showlegend\": true, \"type\": \"scatter\", \"x\": [\"2020-04-23T00:00:00\"], \"xaxis\": \"x2\", \"y\": [99989], \"yaxis\": \"y2\"}, {\"hoverlabel\": {\"namelength\": 0}, \"hovertemplate\": \"state=Michigan<br>x=%{x}<br>cases=%{y}<br>deaths=%{marker.size}\", \"legendgroup\": \"state=Michigan\", \"marker\": {\"color\": \"#00cc96\", \"size\": [2977], \"sizemode\": \"area\", \"sizeref\": 39.35, \"symbol\": \"circle\"}, \"mode\": \"markers\", \"name\": \"state=Michigan\", \"showlegend\": true, \"type\": \"scatter\", \"x\": [\"2020-04-23T00:00:00\"], \"xaxis\": \"x3\", \"y\": [35252], \"yaxis\": \"y3\"}, {\"hoverlabel\": {\"namelength\": 0}, \"hovertemplate\": \"state=Massachusetts<br>x=%{x}<br>cases=%{y}<br>deaths=%{marker.size}\", \"legendgroup\": \"state=Massachusetts\", \"marker\": {\"color\": \"#ab63fa\", \"size\": [2360], \"sizemode\": \"area\", \"sizeref\": 39.35, \"symbol\": \"circle\"}, \"mode\": \"markers\", \"name\": \"state=Massachusetts\", \"showlegend\": true, \"type\": \"scatter\", \"x\": [\"2020-04-23T00:00:00\"], \"xaxis\": \"x4\", \"y\": [46023], \"yaxis\": \"y4\"}, {\"hoverlabel\": {\"namelength\": 0}, \"hovertemplate\": \"state=Pennsylvania<br>x=%{x}<br>cases=%{y}<br>deaths=%{marker.size}\", \"legendgroup\": \"state=Pennsylvania\", \"marker\": {\"color\": \"#FFA15A\", \"size\": [1713], \"sizemode\": \"area\", \"sizeref\": 39.35, \"symbol\": \"circle\"}, \"mode\": \"markers\", \"name\": \"state=Pennsylvania\", \"showlegend\": true, \"type\": \"scatter\", \"x\": [\"2020-04-23T00:00:00\"], \"xaxis\": \"x5\", \"y\": [38334], \"yaxis\": \"y5\"}, {\"hoverlabel\": {\"namelength\": 0}, \"hovertemplate\": \"state=Illinois<br>x=%{x}<br>cases=%{y}<br>deaths=%{marker.size}\", \"legendgroup\": \"state=Illinois\", \"marker\": {\"color\": \"#19d3f3\", \"size\": [1696], \"sizemode\": \"area\", \"sizeref\": 39.35, \"symbol\": \"circle\"}, \"mode\": \"markers\", \"name\": \"state=Illinois\", \"showlegend\": true, \"type\": \"scatter\", \"x\": [\"2020-04-23T00:00:00\"], \"xaxis\": \"x6\", \"y\": [36935], \"yaxis\": \"y6\"}, {\"hoverlabel\": {\"namelength\": 0}, \"hovertemplate\": \"state=Connecticut<br>x=%{x}<br>cases=%{y}<br>deaths=%{marker.size}\", \"legendgroup\": \"state=Connecticut\", \"marker\": {\"color\": \"#FF6692\", \"size\": [1639], \"sizemode\": \"area\", \"sizeref\": 39.35, \"symbol\": \"circle\"}, \"mode\": \"markers\", \"name\": \"state=Connecticut\", \"showlegend\": true, \"type\": \"scatter\", \"x\": [\"2020-04-23T00:00:00\"], \"xaxis\": \"x7\", \"y\": [23100], \"yaxis\": \"y7\"}, {\"hoverlabel\": {\"namelength\": 0}, \"hovertemplate\": \"state=California<br>x=%{x}<br>cases=%{y}<br>deaths=%{marker.size}\", \"legendgroup\": \"state=California\", \"marker\": {\"color\": \"#B6E880\", \"size\": [1553], \"sizemode\": \"area\", \"sizeref\": 39.35, \"symbol\": \"circle\"}, \"mode\": \"markers\", \"name\": \"state=California\", \"showlegend\": true, \"type\": \"scatter\", \"x\": [\"2020-04-23T00:00:00\"], \"xaxis\": \"x8\", \"y\": [39534], \"yaxis\": \"y8\"}, {\"hoverlabel\": {\"namelength\": 0}, \"hovertemplate\": \"state=Louisiana<br>x=%{x}<br>cases=%{y}<br>deaths=%{marker.size}\", \"legendgroup\": \"state=Louisiana\", \"marker\": {\"color\": \"#FF97FF\", \"size\": [1540], \"sizemode\": \"area\", \"sizeref\": 39.35, \"symbol\": \"circle\"}, \"mode\": \"markers\", \"name\": \"state=Louisiana\", \"showlegend\": true, \"type\": \"scatter\", \"x\": [\"2020-04-23T00:00:00\"], \"xaxis\": \"x9\", \"y\": [25739], \"yaxis\": \"y9\"}, {\"hoverlabel\": {\"namelength\": 0}, \"hovertemplate\": \"state=Florida<br>x=%{x}<br>cases=%{y}<br>deaths=%{marker.size}\", \"legendgroup\": \"state=Florida\", \"marker\": {\"color\": \"#FECB52\", \"size\": [986], \"sizemode\": \"area\", \"sizeref\": 39.35, \"symbol\": \"circle\"}, \"mode\": \"markers\", \"name\": \"state=Florida\", \"showlegend\": true, \"type\": \"scatter\", \"x\": [\"2020-04-23T00:00:00\"], \"xaxis\": \"x10\", \"y\": [29640], \"yaxis\": \"y10\"}],\n",
              "                        {\"annotations\": [{\"font\": {}, \"showarrow\": false, \"text\": \"state=New York\", \"x\": 0.04100000000000001, \"xanchor\": \"center\", \"xref\": \"paper\", \"y\": 1.0, \"yanchor\": \"bottom\", \"yref\": \"paper\"}, {\"font\": {}, \"showarrow\": false, \"text\": \"state=New Jersey\", \"x\": 0.14300000000000004, \"xanchor\": \"center\", \"xref\": \"paper\", \"y\": 1.0, \"yanchor\": \"bottom\", \"yref\": \"paper\"}, {\"font\": {}, \"showarrow\": false, \"text\": \"state=Michigan\", \"x\": 0.24500000000000005, \"xanchor\": \"center\", \"xref\": \"paper\", \"y\": 1.0, \"yanchor\": \"bottom\", \"yref\": \"paper\"}, {\"font\": {}, \"showarrow\": false, \"text\": \"state=Massachusetts\", \"x\": 0.3470000000000001, \"xanchor\": \"center\", \"xref\": \"paper\", \"y\": 1.0, \"yanchor\": \"bottom\", \"yref\": \"paper\"}, {\"font\": {}, \"showarrow\": false, \"text\": \"state=Pennsylvania\", \"x\": 0.44900000000000007, \"xanchor\": \"center\", \"xref\": \"paper\", \"y\": 1.0, \"yanchor\": \"bottom\", \"yref\": \"paper\"}, {\"font\": {}, \"showarrow\": false, \"text\": \"state=Illinois\", \"x\": 0.5510000000000002, \"xanchor\": \"center\", \"xref\": \"paper\", \"y\": 1.0, \"yanchor\": \"bottom\", \"yref\": \"paper\"}, {\"font\": {}, \"showarrow\": false, \"text\": \"state=Connecticut\", \"x\": 0.6530000000000001, \"xanchor\": \"center\", \"xref\": \"paper\", \"y\": 1.0, \"yanchor\": \"bottom\", \"yref\": \"paper\"}, {\"font\": {}, \"showarrow\": false, \"text\": \"state=California\", \"x\": 0.7550000000000001, \"xanchor\": \"center\", \"xref\": \"paper\", \"y\": 1.0, \"yanchor\": \"bottom\", \"yref\": \"paper\"}, {\"font\": {}, \"showarrow\": false, \"text\": \"state=Louisiana\", \"x\": 0.8570000000000002, \"xanchor\": \"center\", \"xref\": \"paper\", \"y\": 1.0, \"yanchor\": \"bottom\", \"yref\": \"paper\"}, {\"font\": {}, \"showarrow\": false, \"text\": \"state=Florida\", \"x\": 0.9590000000000002, \"xanchor\": \"center\", \"xref\": \"paper\", \"y\": 1.0, \"yanchor\": \"bottom\", \"yref\": \"paper\"}], \"legend\": {\"itemsizing\": \"constant\", \"tracegroupgap\": 0}, \"margin\": {\"t\": 60}, \"template\": {\"data\": {\"bar\": [{\"error_x\": {\"color\": \"#2a3f5f\"}, \"error_y\": {\"color\": \"#2a3f5f\"}, \"marker\": {\"line\": {\"color\": \"#E5ECF6\", \"width\": 0.5}}, \"type\": \"bar\"}], \"barpolar\": [{\"marker\": {\"line\": {\"color\": \"#E5ECF6\", \"width\": 0.5}}, \"type\": \"barpolar\"}], \"carpet\": [{\"aaxis\": {\"endlinecolor\": \"#2a3f5f\", \"gridcolor\": \"white\", \"linecolor\": \"white\", \"minorgridcolor\": \"white\", \"startlinecolor\": \"#2a3f5f\"}, \"baxis\": {\"endlinecolor\": \"#2a3f5f\", \"gridcolor\": \"white\", \"linecolor\": \"white\", \"minorgridcolor\": \"white\", \"startlinecolor\": \"#2a3f5f\"}, \"type\": \"carpet\"}], \"choropleth\": [{\"colorbar\": {\"outlinewidth\": 0, \"ticks\": \"\"}, \"type\": \"choropleth\"}], \"contour\": [{\"colorbar\": {\"outlinewidth\": 0, \"ticks\": \"\"}, \"colorscale\": [[0.0, \"#0d0887\"], [0.1111111111111111, \"#46039f\"], [0.2222222222222222, \"#7201a8\"], [0.3333333333333333, \"#9c179e\"], [0.4444444444444444, \"#bd3786\"], [0.5555555555555556, \"#d8576b\"], [0.6666666666666666, \"#ed7953\"], [0.7777777777777778, \"#fb9f3a\"], [0.8888888888888888, \"#fdca26\"], [1.0, \"#f0f921\"]], \"type\": \"contour\"}], \"contourcarpet\": [{\"colorbar\": {\"outlinewidth\": 0, \"ticks\": \"\"}, \"type\": \"contourcarpet\"}], \"heatmap\": [{\"colorbar\": {\"outlinewidth\": 0, \"ticks\": \"\"}, \"colorscale\": [[0.0, \"#0d0887\"], [0.1111111111111111, \"#46039f\"], [0.2222222222222222, \"#7201a8\"], [0.3333333333333333, \"#9c179e\"], [0.4444444444444444, \"#bd3786\"], [0.5555555555555556, \"#d8576b\"], [0.6666666666666666, \"#ed7953\"], [0.7777777777777778, \"#fb9f3a\"], [0.8888888888888888, \"#fdca26\"], [1.0, \"#f0f921\"]], \"type\": \"heatmap\"}], \"heatmapgl\": [{\"colorbar\": {\"outlinewidth\": 0, \"ticks\": \"\"}, \"colorscale\": [[0.0, \"#0d0887\"], [0.1111111111111111, \"#46039f\"], [0.2222222222222222, \"#7201a8\"], [0.3333333333333333, \"#9c179e\"], [0.4444444444444444, \"#bd3786\"], [0.5555555555555556, \"#d8576b\"], [0.6666666666666666, \"#ed7953\"], [0.7777777777777778, \"#fb9f3a\"], [0.8888888888888888, \"#fdca26\"], [1.0, \"#f0f921\"]], \"type\": \"heatmapgl\"}], \"histogram\": [{\"marker\": {\"colorbar\": {\"outlinewidth\": 0, \"ticks\": \"\"}}, \"type\": \"histogram\"}], \"histogram2d\": [{\"colorbar\": {\"outlinewidth\": 0, \"ticks\": \"\"}, \"colorscale\": [[0.0, \"#0d0887\"], [0.1111111111111111, \"#46039f\"], [0.2222222222222222, \"#7201a8\"], [0.3333333333333333, \"#9c179e\"], [0.4444444444444444, \"#bd3786\"], [0.5555555555555556, \"#d8576b\"], [0.6666666666666666, \"#ed7953\"], [0.7777777777777778, \"#fb9f3a\"], [0.8888888888888888, \"#fdca26\"], [1.0, \"#f0f921\"]], \"type\": \"histogram2d\"}], \"histogram2dcontour\": [{\"colorbar\": {\"outlinewidth\": 0, \"ticks\": \"\"}, \"colorscale\": [[0.0, \"#0d0887\"], [0.1111111111111111, \"#46039f\"], [0.2222222222222222, \"#7201a8\"], [0.3333333333333333, \"#9c179e\"], [0.4444444444444444, \"#bd3786\"], [0.5555555555555556, \"#d8576b\"], [0.6666666666666666, \"#ed7953\"], [0.7777777777777778, \"#fb9f3a\"], [0.8888888888888888, \"#fdca26\"], [1.0, \"#f0f921\"]], \"type\": \"histogram2dcontour\"}], \"mesh3d\": [{\"colorbar\": {\"outlinewidth\": 0, \"ticks\": \"\"}, \"type\": \"mesh3d\"}], \"parcoords\": [{\"line\": {\"colorbar\": {\"outlinewidth\": 0, \"ticks\": \"\"}}, \"type\": \"parcoords\"}], \"pie\": [{\"automargin\": true, \"type\": \"pie\"}], \"scatter\": [{\"marker\": {\"colorbar\": {\"outlinewidth\": 0, \"ticks\": \"\"}}, \"type\": \"scatter\"}], \"scatter3d\": [{\"line\": {\"colorbar\": {\"outlinewidth\": 0, \"ticks\": \"\"}}, \"marker\": {\"colorbar\": {\"outlinewidth\": 0, \"ticks\": \"\"}}, \"type\": \"scatter3d\"}], \"scattercarpet\": [{\"marker\": {\"colorbar\": {\"outlinewidth\": 0, \"ticks\": \"\"}}, \"type\": \"scattercarpet\"}], \"scattergeo\": [{\"marker\": {\"colorbar\": {\"outlinewidth\": 0, \"ticks\": \"\"}}, \"type\": \"scattergeo\"}], \"scattergl\": [{\"marker\": {\"colorbar\": {\"outlinewidth\": 0, \"ticks\": \"\"}}, \"type\": \"scattergl\"}], \"scattermapbox\": [{\"marker\": {\"colorbar\": {\"outlinewidth\": 0, \"ticks\": \"\"}}, \"type\": \"scattermapbox\"}], \"scatterpolar\": [{\"marker\": {\"colorbar\": {\"outlinewidth\": 0, \"ticks\": \"\"}}, \"type\": \"scatterpolar\"}], \"scatterpolargl\": [{\"marker\": {\"colorbar\": {\"outlinewidth\": 0, \"ticks\": \"\"}}, \"type\": \"scatterpolargl\"}], \"scatterternary\": [{\"marker\": {\"colorbar\": {\"outlinewidth\": 0, \"ticks\": \"\"}}, \"type\": \"scatterternary\"}], \"surface\": [{\"colorbar\": {\"outlinewidth\": 0, \"ticks\": \"\"}, \"colorscale\": [[0.0, \"#0d0887\"], [0.1111111111111111, \"#46039f\"], [0.2222222222222222, \"#7201a8\"], [0.3333333333333333, \"#9c179e\"], [0.4444444444444444, \"#bd3786\"], [0.5555555555555556, \"#d8576b\"], [0.6666666666666666, \"#ed7953\"], [0.7777777777777778, \"#fb9f3a\"], [0.8888888888888888, \"#fdca26\"], [1.0, \"#f0f921\"]], \"type\": \"surface\"}], \"table\": [{\"cells\": {\"fill\": {\"color\": \"#EBF0F8\"}, \"line\": {\"color\": \"white\"}}, \"header\": {\"fill\": {\"color\": \"#C8D4E3\"}, \"line\": {\"color\": \"white\"}}, \"type\": \"table\"}]}, \"layout\": {\"annotationdefaults\": {\"arrowcolor\": \"#2a3f5f\", \"arrowhead\": 0, \"arrowwidth\": 1}, \"coloraxis\": {\"colorbar\": {\"outlinewidth\": 0, \"ticks\": \"\"}}, \"colorscale\": {\"diverging\": [[0, \"#8e0152\"], [0.1, \"#c51b7d\"], [0.2, \"#de77ae\"], [0.3, \"#f1b6da\"], [0.4, \"#fde0ef\"], [0.5, \"#f7f7f7\"], [0.6, \"#e6f5d0\"], [0.7, \"#b8e186\"], [0.8, \"#7fbc41\"], [0.9, \"#4d9221\"], [1, \"#276419\"]], \"sequential\": [[0.0, \"#0d0887\"], [0.1111111111111111, \"#46039f\"], [0.2222222222222222, \"#7201a8\"], [0.3333333333333333, \"#9c179e\"], [0.4444444444444444, \"#bd3786\"], [0.5555555555555556, \"#d8576b\"], [0.6666666666666666, \"#ed7953\"], [0.7777777777777778, \"#fb9f3a\"], [0.8888888888888888, \"#fdca26\"], [1.0, \"#f0f921\"]], \"sequentialminus\": [[0.0, \"#0d0887\"], [0.1111111111111111, \"#46039f\"], [0.2222222222222222, \"#7201a8\"], [0.3333333333333333, \"#9c179e\"], [0.4444444444444444, \"#bd3786\"], [0.5555555555555556, \"#d8576b\"], [0.6666666666666666, \"#ed7953\"], [0.7777777777777778, \"#fb9f3a\"], [0.8888888888888888, \"#fdca26\"], [1.0, \"#f0f921\"]]}, \"colorway\": [\"#636efa\", \"#EF553B\", \"#00cc96\", \"#ab63fa\", \"#FFA15A\", \"#19d3f3\", \"#FF6692\", \"#B6E880\", \"#FF97FF\", \"#FECB52\"], \"font\": {\"color\": \"#2a3f5f\"}, \"geo\": {\"bgcolor\": \"white\", \"lakecolor\": \"white\", \"landcolor\": \"#E5ECF6\", \"showlakes\": true, \"showland\": true, \"subunitcolor\": \"white\"}, \"hoverlabel\": {\"align\": \"left\"}, \"hovermode\": \"closest\", \"mapbox\": {\"style\": \"light\"}, \"paper_bgcolor\": \"white\", \"plot_bgcolor\": \"#E5ECF6\", \"polar\": {\"angularaxis\": {\"gridcolor\": \"white\", \"linecolor\": \"white\", \"ticks\": \"\"}, \"bgcolor\": \"#E5ECF6\", \"radialaxis\": {\"gridcolor\": \"white\", \"linecolor\": \"white\", \"ticks\": \"\"}}, \"scene\": {\"xaxis\": {\"backgroundcolor\": \"#E5ECF6\", \"gridcolor\": \"white\", \"gridwidth\": 2, \"linecolor\": \"white\", \"showbackground\": true, \"ticks\": \"\", \"zerolinecolor\": \"white\"}, \"yaxis\": {\"backgroundcolor\": \"#E5ECF6\", \"gridcolor\": \"white\", \"gridwidth\": 2, \"linecolor\": \"white\", \"showbackground\": true, \"ticks\": \"\", \"zerolinecolor\": \"white\"}, \"zaxis\": {\"backgroundcolor\": \"#E5ECF6\", \"gridcolor\": \"white\", \"gridwidth\": 2, \"linecolor\": \"white\", \"showbackground\": true, \"ticks\": \"\", \"zerolinecolor\": \"white\"}}, \"shapedefaults\": {\"line\": {\"color\": \"#2a3f5f\"}}, \"ternary\": {\"aaxis\": {\"gridcolor\": \"white\", \"linecolor\": \"white\", \"ticks\": \"\"}, \"baxis\": {\"gridcolor\": \"white\", \"linecolor\": \"white\", \"ticks\": \"\"}, \"bgcolor\": \"#E5ECF6\", \"caxis\": {\"gridcolor\": \"white\", \"linecolor\": \"white\", \"ticks\": \"\"}}, \"title\": {\"x\": 0.05}, \"xaxis\": {\"automargin\": true, \"gridcolor\": \"white\", \"linecolor\": \"white\", \"ticks\": \"\", \"title\": {\"standoff\": 15}, \"zerolinecolor\": \"white\", \"zerolinewidth\": 2}, \"yaxis\": {\"automargin\": true, \"gridcolor\": \"white\", \"linecolor\": \"white\", \"ticks\": \"\", \"title\": {\"standoff\": 15}, \"zerolinecolor\": \"white\", \"zerolinewidth\": 2}}}, \"xaxis\": {\"anchor\": \"y\", \"domain\": [0.0, 0.08200000000000002], \"title\": {\"text\": \"x\"}}, \"xaxis10\": {\"anchor\": \"y10\", \"domain\": [0.9180000000000001, 1.0], \"matches\": \"x\", \"title\": {\"text\": \"x\"}}, \"xaxis2\": {\"anchor\": \"y2\", \"domain\": [0.10200000000000002, 0.18400000000000005], \"matches\": \"x\", \"title\": {\"text\": \"x\"}}, \"xaxis3\": {\"anchor\": \"y3\", \"domain\": [0.20400000000000004, 0.28600000000000003], \"matches\": \"x\", \"title\": {\"text\": \"x\"}}, \"xaxis4\": {\"anchor\": \"y4\", \"domain\": [0.30600000000000005, 0.38800000000000007], \"matches\": \"x\", \"title\": {\"text\": \"x\"}}, \"xaxis5\": {\"anchor\": \"y5\", \"domain\": [0.4080000000000001, 0.4900000000000001], \"matches\": \"x\", \"title\": {\"text\": \"x\"}}, \"xaxis6\": {\"anchor\": \"y6\", \"domain\": [0.5100000000000001, 0.5920000000000001], \"matches\": \"x\", \"title\": {\"text\": \"x\"}}, \"xaxis7\": {\"anchor\": \"y7\", \"domain\": [0.6120000000000001, 0.6940000000000002], \"matches\": \"x\", \"title\": {\"text\": \"x\"}}, \"xaxis8\": {\"anchor\": \"y8\", \"domain\": [0.7140000000000001, 0.796], \"matches\": \"x\", \"title\": {\"text\": \"x\"}}, \"xaxis9\": {\"anchor\": \"y9\", \"domain\": [0.8160000000000002, 0.8980000000000001], \"matches\": \"x\", \"title\": {\"text\": \"x\"}}, \"yaxis\": {\"anchor\": \"x\", \"domain\": [0.0, 1.0], \"title\": {\"text\": \"cases\"}}, \"yaxis10\": {\"anchor\": \"x10\", \"domain\": [0.0, 1.0], \"matches\": \"y\", \"showticklabels\": false}, \"yaxis2\": {\"anchor\": \"x2\", \"domain\": [0.0, 1.0], \"matches\": \"y\", \"showticklabels\": false}, \"yaxis3\": {\"anchor\": \"x3\", \"domain\": [0.0, 1.0], \"matches\": \"y\", \"showticklabels\": false}, \"yaxis4\": {\"anchor\": \"x4\", \"domain\": [0.0, 1.0], \"matches\": \"y\", \"showticklabels\": false}, \"yaxis5\": {\"anchor\": \"x5\", \"domain\": [0.0, 1.0], \"matches\": \"y\", \"showticklabels\": false}, \"yaxis6\": {\"anchor\": \"x6\", \"domain\": [0.0, 1.0], \"matches\": \"y\", \"showticklabels\": false}, \"yaxis7\": {\"anchor\": \"x7\", \"domain\": [0.0, 1.0], \"matches\": \"y\", \"showticklabels\": false}, \"yaxis8\": {\"anchor\": \"x8\", \"domain\": [0.0, 1.0], \"matches\": \"y\", \"showticklabels\": false}, \"yaxis9\": {\"anchor\": \"x9\", \"domain\": [0.0, 1.0], \"matches\": \"y\", \"showticklabels\": false}},\n",
              "                        {\"responsive\": true}\n",
              "                    ).then(function(){\n",
              "                            \n",
              "var gd = document.getElementById('4aab0a52-5648-4599-b26e-e3e101da6118');\n",
              "var x = new MutationObserver(function (mutations, observer) {{\n",
              "        var display = window.getComputedStyle(gd).display;\n",
              "        if (!display || display === 'none') {{\n",
              "            console.log([gd, 'removed!']);\n",
              "            Plotly.purge(gd);\n",
              "            observer.disconnect();\n",
              "        }}\n",
              "}});\n",
              "\n",
              "// Listen for the removal of the full notebook cells\n",
              "var notebookContainer = gd.closest('#notebook-container');\n",
              "if (notebookContainer) {{\n",
              "    x.observe(notebookContainer, {childList: true});\n",
              "}}\n",
              "\n",
              "// Listen for the clearing of the current output cell\n",
              "var outputEl = gd.closest('.output');\n",
              "if (outputEl) {{\n",
              "    x.observe(outputEl, {childList: true});\n",
              "}}\n",
              "\n",
              "                        })\n",
              "                };\n",
              "                \n",
              "            </script>\n",
              "        </div>\n",
              "</body>\n",
              "</html>"
            ]
          },
          "metadata": {
            "tags": []
          }
        }
      ]
    },
    {
      "cell_type": "markdown",
      "metadata": {
        "id": "FsWx0B8DiAEz",
        "colab_type": "text"
      },
      "source": [
        "Original Code for ICS 360 HW - Import State Level Data for Hawaii from national dataset"
      ]
    },
    {
      "cell_type": "code",
      "metadata": {
        "id": "iXcnT6sxerrP",
        "colab_type": "code",
        "outputId": "ba1f362d-67e1-4a51-a56f-e4baed1fc156",
        "colab": {
          "base_uri": "https://localhost:8080/",
          "height": 514
        }
      },
      "source": [
        "import pandas as pd\n",
        "df = pd.read_csv(\"https://raw.githubusercontent.com/nytimes/covid-19-data/master/us-states.csv\")\n",
        "Hawaii_df = df[df[\"state\"] == \"Hawaii\"].drop(columns=\"fips\").drop(columns=\"state\")\n",
        "Hawaii_df.tail(15)"
      ],
      "execution_count": 33,
      "outputs": [
        {
          "output_type": "execute_result",
          "data": {
            "text/html": [
              "<div>\n",
              "<style scoped>\n",
              "    .dataframe tbody tr th:only-of-type {\n",
              "        vertical-align: middle;\n",
              "    }\n",
              "\n",
              "    .dataframe tbody tr th {\n",
              "        vertical-align: top;\n",
              "    }\n",
              "\n",
              "    .dataframe thead th {\n",
              "        text-align: right;\n",
              "    }\n",
              "</style>\n",
              "<table border=\"1\" class=\"dataframe\">\n",
              "  <thead>\n",
              "    <tr style=\"text-align: right;\">\n",
              "      <th></th>\n",
              "      <th>date</th>\n",
              "      <th>cases</th>\n",
              "      <th>deaths</th>\n",
              "    </tr>\n",
              "  </thead>\n",
              "  <tbody>\n",
              "    <tr>\n",
              "      <th>2062</th>\n",
              "      <td>2020-04-09</td>\n",
              "      <td>440</td>\n",
              "      <td>6</td>\n",
              "    </tr>\n",
              "    <tr>\n",
              "      <th>2118</th>\n",
              "      <td>2020-04-10</td>\n",
              "      <td>463</td>\n",
              "      <td>8</td>\n",
              "    </tr>\n",
              "    <tr>\n",
              "      <th>2174</th>\n",
              "      <td>2020-04-11</td>\n",
              "      <td>484</td>\n",
              "      <td>8</td>\n",
              "    </tr>\n",
              "    <tr>\n",
              "      <th>2230</th>\n",
              "      <td>2020-04-12</td>\n",
              "      <td>497</td>\n",
              "      <td>9</td>\n",
              "    </tr>\n",
              "    <tr>\n",
              "      <th>2286</th>\n",
              "      <td>2020-04-13</td>\n",
              "      <td>502</td>\n",
              "      <td>9</td>\n",
              "    </tr>\n",
              "    <tr>\n",
              "      <th>2342</th>\n",
              "      <td>2020-04-14</td>\n",
              "      <td>511</td>\n",
              "      <td>9</td>\n",
              "    </tr>\n",
              "    <tr>\n",
              "      <th>2398</th>\n",
              "      <td>2020-04-15</td>\n",
              "      <td>524</td>\n",
              "      <td>9</td>\n",
              "    </tr>\n",
              "    <tr>\n",
              "      <th>2454</th>\n",
              "      <td>2020-04-16</td>\n",
              "      <td>535</td>\n",
              "      <td>9</td>\n",
              "    </tr>\n",
              "    <tr>\n",
              "      <th>2510</th>\n",
              "      <td>2020-04-17</td>\n",
              "      <td>547</td>\n",
              "      <td>9</td>\n",
              "    </tr>\n",
              "    <tr>\n",
              "      <th>2566</th>\n",
              "      <td>2020-04-18</td>\n",
              "      <td>568</td>\n",
              "      <td>9</td>\n",
              "    </tr>\n",
              "    <tr>\n",
              "      <th>2622</th>\n",
              "      <td>2020-04-19</td>\n",
              "      <td>574</td>\n",
              "      <td>10</td>\n",
              "    </tr>\n",
              "    <tr>\n",
              "      <th>2678</th>\n",
              "      <td>2020-04-20</td>\n",
              "      <td>578</td>\n",
              "      <td>10</td>\n",
              "    </tr>\n",
              "    <tr>\n",
              "      <th>2734</th>\n",
              "      <td>2020-04-21</td>\n",
              "      <td>580</td>\n",
              "      <td>12</td>\n",
              "    </tr>\n",
              "    <tr>\n",
              "      <th>2790</th>\n",
              "      <td>2020-04-22</td>\n",
              "      <td>586</td>\n",
              "      <td>12</td>\n",
              "    </tr>\n",
              "    <tr>\n",
              "      <th>2846</th>\n",
              "      <td>2020-04-23</td>\n",
              "      <td>590</td>\n",
              "      <td>12</td>\n",
              "    </tr>\n",
              "  </tbody>\n",
              "</table>\n",
              "</div>"
            ],
            "text/plain": [
              "            date  cases  deaths\n",
              "2062  2020-04-09    440       6\n",
              "2118  2020-04-10    463       8\n",
              "2174  2020-04-11    484       8\n",
              "2230  2020-04-12    497       9\n",
              "2286  2020-04-13    502       9\n",
              "2342  2020-04-14    511       9\n",
              "2398  2020-04-15    524       9\n",
              "2454  2020-04-16    535       9\n",
              "2510  2020-04-17    547       9\n",
              "2566  2020-04-18    568       9\n",
              "2622  2020-04-19    574      10\n",
              "2678  2020-04-20    578      10\n",
              "2734  2020-04-21    580      12\n",
              "2790  2020-04-22    586      12\n",
              "2846  2020-04-23    590      12"
            ]
          },
          "metadata": {
            "tags": []
          },
          "execution_count": 33
        }
      ]
    },
    {
      "cell_type": "markdown",
      "metadata": {
        "id": "MZvYQpMwfYig",
        "colab_type": "text"
      },
      "source": [
        "Import County Level Data for Hawaii from county dataset"
      ]
    },
    {
      "cell_type": "code",
      "metadata": {
        "id": "WRSNLaNAiJ1i",
        "colab_type": "code",
        "outputId": "f7e4d9e9-a54c-4570-ab80-24b6b89b879b",
        "colab": {
          "base_uri": "https://localhost:8080/",
          "height": 514
        }
      },
      "source": [
        "import pandas as pd\n",
        "df = pd.read_csv(\"https://raw.githubusercontent.com/nytimes/covid-19-data/master/us-counties.csv\")\n",
        "df = df[df[\"state\"] == \"Hawaii\"].drop(columns=\"fips\").drop(columns=\"state\")\n",
        "df.tail(15)"
      ],
      "execution_count": 34,
      "outputs": [
        {
          "output_type": "execute_result",
          "data": {
            "text/html": [
              "<div>\n",
              "<style scoped>\n",
              "    .dataframe tbody tr th:only-of-type {\n",
              "        vertical-align: middle;\n",
              "    }\n",
              "\n",
              "    .dataframe tbody tr th {\n",
              "        vertical-align: top;\n",
              "    }\n",
              "\n",
              "    .dataframe thead th {\n",
              "        text-align: right;\n",
              "    }\n",
              "</style>\n",
              "<table border=\"1\" class=\"dataframe\">\n",
              "  <thead>\n",
              "    <tr style=\"text-align: right;\">\n",
              "      <th></th>\n",
              "      <th>date</th>\n",
              "      <th>county</th>\n",
              "      <th>cases</th>\n",
              "      <th>deaths</th>\n",
              "    </tr>\n",
              "  </thead>\n",
              "  <tbody>\n",
              "    <tr>\n",
              "      <th>73505</th>\n",
              "      <td>2020-04-20</td>\n",
              "      <td>Honolulu</td>\n",
              "      <td>385</td>\n",
              "      <td>6</td>\n",
              "    </tr>\n",
              "    <tr>\n",
              "      <th>73506</th>\n",
              "      <td>2020-04-20</td>\n",
              "      <td>Kauai</td>\n",
              "      <td>21</td>\n",
              "      <td>0</td>\n",
              "    </tr>\n",
              "    <tr>\n",
              "      <th>73507</th>\n",
              "      <td>2020-04-20</td>\n",
              "      <td>Maui</td>\n",
              "      <td>108</td>\n",
              "      <td>4</td>\n",
              "    </tr>\n",
              "    <tr>\n",
              "      <th>76281</th>\n",
              "      <td>2020-04-21</td>\n",
              "      <td>Hawaii</td>\n",
              "      <td>64</td>\n",
              "      <td>0</td>\n",
              "    </tr>\n",
              "    <tr>\n",
              "      <th>76282</th>\n",
              "      <td>2020-04-21</td>\n",
              "      <td>Honolulu</td>\n",
              "      <td>385</td>\n",
              "      <td>7</td>\n",
              "    </tr>\n",
              "    <tr>\n",
              "      <th>76283</th>\n",
              "      <td>2020-04-21</td>\n",
              "      <td>Kauai</td>\n",
              "      <td>21</td>\n",
              "      <td>0</td>\n",
              "    </tr>\n",
              "    <tr>\n",
              "      <th>76284</th>\n",
              "      <td>2020-04-21</td>\n",
              "      <td>Maui</td>\n",
              "      <td>110</td>\n",
              "      <td>5</td>\n",
              "    </tr>\n",
              "    <tr>\n",
              "      <th>79064</th>\n",
              "      <td>2020-04-22</td>\n",
              "      <td>Hawaii</td>\n",
              "      <td>67</td>\n",
              "      <td>0</td>\n",
              "    </tr>\n",
              "    <tr>\n",
              "      <th>79065</th>\n",
              "      <td>2020-04-22</td>\n",
              "      <td>Honolulu</td>\n",
              "      <td>388</td>\n",
              "      <td>7</td>\n",
              "    </tr>\n",
              "    <tr>\n",
              "      <th>79066</th>\n",
              "      <td>2020-04-22</td>\n",
              "      <td>Kauai</td>\n",
              "      <td>21</td>\n",
              "      <td>0</td>\n",
              "    </tr>\n",
              "    <tr>\n",
              "      <th>79067</th>\n",
              "      <td>2020-04-22</td>\n",
              "      <td>Maui</td>\n",
              "      <td>110</td>\n",
              "      <td>5</td>\n",
              "    </tr>\n",
              "    <tr>\n",
              "      <th>81860</th>\n",
              "      <td>2020-04-23</td>\n",
              "      <td>Hawaii</td>\n",
              "      <td>68</td>\n",
              "      <td>0</td>\n",
              "    </tr>\n",
              "    <tr>\n",
              "      <th>81861</th>\n",
              "      <td>2020-04-23</td>\n",
              "      <td>Honolulu</td>\n",
              "      <td>389</td>\n",
              "      <td>7</td>\n",
              "    </tr>\n",
              "    <tr>\n",
              "      <th>81862</th>\n",
              "      <td>2020-04-23</td>\n",
              "      <td>Kauai</td>\n",
              "      <td>21</td>\n",
              "      <td>0</td>\n",
              "    </tr>\n",
              "    <tr>\n",
              "      <th>81863</th>\n",
              "      <td>2020-04-23</td>\n",
              "      <td>Maui</td>\n",
              "      <td>112</td>\n",
              "      <td>5</td>\n",
              "    </tr>\n",
              "  </tbody>\n",
              "</table>\n",
              "</div>"
            ],
            "text/plain": [
              "             date    county  cases  deaths\n",
              "73505  2020-04-20  Honolulu    385       6\n",
              "73506  2020-04-20     Kauai     21       0\n",
              "73507  2020-04-20      Maui    108       4\n",
              "76281  2020-04-21    Hawaii     64       0\n",
              "76282  2020-04-21  Honolulu    385       7\n",
              "76283  2020-04-21     Kauai     21       0\n",
              "76284  2020-04-21      Maui    110       5\n",
              "79064  2020-04-22    Hawaii     67       0\n",
              "79065  2020-04-22  Honolulu    388       7\n",
              "79066  2020-04-22     Kauai     21       0\n",
              "79067  2020-04-22      Maui    110       5\n",
              "81860  2020-04-23    Hawaii     68       0\n",
              "81861  2020-04-23  Honolulu    389       7\n",
              "81862  2020-04-23     Kauai     21       0\n",
              "81863  2020-04-23      Maui    112       5"
            ]
          },
          "metadata": {
            "tags": []
          },
          "execution_count": 34
        }
      ]
    },
    {
      "cell_type": "code",
      "metadata": {
        "id": "KsKMOYuYoExM",
        "colab_type": "code",
        "outputId": "c35d75e7-b5e5-46a8-8a91-9a619fcf3a30",
        "colab": {
          "base_uri": "https://localhost:8080/",
          "height": 34
        }
      },
      "source": [
        "df.columns"
      ],
      "execution_count": 35,
      "outputs": [
        {
          "output_type": "execute_result",
          "data": {
            "text/plain": [
              "Index(['date', 'county', 'cases', 'deaths'], dtype='object')"
            ]
          },
          "metadata": {
            "tags": []
          },
          "execution_count": 35
        }
      ]
    },
    {
      "cell_type": "code",
      "metadata": {
        "id": "anhVKFKEP9OB",
        "colab_type": "code",
        "outputId": "d7f72c65-e3e2-4497-c9e5-e12c5466ce34",
        "colab": {
          "base_uri": "https://localhost:8080/",
          "height": 34
        }
      },
      "source": [
        "df.shape"
      ],
      "execution_count": 36,
      "outputs": [
        {
          "output_type": "execute_result",
          "data": {
            "text/plain": [
              "(193, 4)"
            ]
          },
          "metadata": {
            "tags": []
          },
          "execution_count": 36
        }
      ]
    },
    {
      "cell_type": "markdown",
      "metadata": {
        "id": "94LEKS_scDFA",
        "colab_type": "text"
      },
      "source": [
        "Create a data frame for Maui County and display data for past 15 days"
      ]
    },
    {
      "cell_type": "code",
      "metadata": {
        "id": "nsoHvLXFpqGC",
        "colab_type": "code",
        "outputId": "0a4064c2-9cde-464a-fef4-243404649f0f",
        "colab": {
          "base_uri": "https://localhost:8080/",
          "height": 204
        }
      },
      "source": [
        "Maui_County_df = df[df[\"county\"]== \"Maui\"]\n",
        "Maui_County_df.tail()"
      ],
      "execution_count": 47,
      "outputs": [
        {
          "output_type": "execute_result",
          "data": {
            "text/html": [
              "<div>\n",
              "<style scoped>\n",
              "    .dataframe tbody tr th:only-of-type {\n",
              "        vertical-align: middle;\n",
              "    }\n",
              "\n",
              "    .dataframe tbody tr th {\n",
              "        vertical-align: top;\n",
              "    }\n",
              "\n",
              "    .dataframe thead th {\n",
              "        text-align: right;\n",
              "    }\n",
              "</style>\n",
              "<table border=\"1\" class=\"dataframe\">\n",
              "  <thead>\n",
              "    <tr style=\"text-align: right;\">\n",
              "      <th></th>\n",
              "      <th>date</th>\n",
              "      <th>county</th>\n",
              "      <th>cases</th>\n",
              "      <th>deaths</th>\n",
              "    </tr>\n",
              "  </thead>\n",
              "  <tbody>\n",
              "    <tr>\n",
              "      <th>70737</th>\n",
              "      <td>2020-04-19</td>\n",
              "      <td>Maui</td>\n",
              "      <td>106</td>\n",
              "      <td>4</td>\n",
              "    </tr>\n",
              "    <tr>\n",
              "      <th>73507</th>\n",
              "      <td>2020-04-20</td>\n",
              "      <td>Maui</td>\n",
              "      <td>108</td>\n",
              "      <td>4</td>\n",
              "    </tr>\n",
              "    <tr>\n",
              "      <th>76284</th>\n",
              "      <td>2020-04-21</td>\n",
              "      <td>Maui</td>\n",
              "      <td>110</td>\n",
              "      <td>5</td>\n",
              "    </tr>\n",
              "    <tr>\n",
              "      <th>79067</th>\n",
              "      <td>2020-04-22</td>\n",
              "      <td>Maui</td>\n",
              "      <td>110</td>\n",
              "      <td>5</td>\n",
              "    </tr>\n",
              "    <tr>\n",
              "      <th>81863</th>\n",
              "      <td>2020-04-23</td>\n",
              "      <td>Maui</td>\n",
              "      <td>112</td>\n",
              "      <td>5</td>\n",
              "    </tr>\n",
              "  </tbody>\n",
              "</table>\n",
              "</div>"
            ],
            "text/plain": [
              "             date county  cases  deaths\n",
              "70737  2020-04-19   Maui    106       4\n",
              "73507  2020-04-20   Maui    108       4\n",
              "76284  2020-04-21   Maui    110       5\n",
              "79067  2020-04-22   Maui    110       5\n",
              "81863  2020-04-23   Maui    112       5"
            ]
          },
          "metadata": {
            "tags": []
          },
          "execution_count": 47
        }
      ]
    },
    {
      "cell_type": "markdown",
      "metadata": {
        "id": "DCke5nbwkU7j",
        "colab_type": "text"
      },
      "source": [
        "Visualization of Cases on Maui County over time"
      ]
    },
    {
      "cell_type": "code",
      "metadata": {
        "colab_type": "code",
        "outputId": "f28c9173-0df2-4fe7-b7b4-634a351559a9",
        "id": "csQgV0knkCHd",
        "colab": {
          "base_uri": "https://localhost:8080/",
          "height": 296
        }
      },
      "source": [
        "import seaborn as sns\n",
        "sns.scatterplot(x=\"date\", y=\"cases\", \n",
        "                hue=\"cases\",size=\"cases\", data=Maui_County_df)"
      ],
      "execution_count": 38,
      "outputs": [
        {
          "output_type": "execute_result",
          "data": {
            "text/plain": [
              "<matplotlib.axes._subplots.AxesSubplot at 0x7f47f58c3b70>"
            ]
          },
          "metadata": {
            "tags": []
          },
          "execution_count": 38
        },
        {
          "output_type": "display_data",
          "data": {
            "image/png": "[encoded data removed]",
            "text/plain": [
              "<Figure size 432x288 with 1 Axes>"
            ]
          },
          "metadata": {
            "tags": [],
            "needs_background": "light"
          }
        }
      ]
    },
    {
      "cell_type": "code",
      "metadata": {
        "colab_type": "code",
        "outputId": "98637aee-1b83-4d2f-d2a4-43b186955d13",
        "id": "vyUhRWrns5MM",
        "colab": {
          "base_uri": "https://localhost:8080/",
          "height": 296
        }
      },
      "source": [
        "import seaborn as sns\n",
        "sns.scatterplot(x=\"cases\", y=\"deaths\", \n",
        "                hue=\"deaths\",size=\"deaths\", data=Maui_County_df)"
      ],
      "execution_count": 39,
      "outputs": [
        {
          "output_type": "execute_result",
          "data": {
            "text/plain": [
              "<matplotlib.axes._subplots.AxesSubplot at 0x7f47f63b2438>"
            ]
          },
          "metadata": {
            "tags": []
          },
          "execution_count": 39
        },
        {
          "output_type": "display_data",
          "data": {
            "image/png": "[encoded data removed]",
            "text/plain": [
              "<Figure size 432x288 with 1 Axes>"
            ]
          },
          "metadata": {
            "tags": [],
            "needs_background": "light"
          }
        }
      ]
    },
    {
      "cell_type": "code",
      "metadata": {
        "id": "SqY1GM4FqLsB",
        "colab_type": "code",
        "outputId": "f11284f1-efe1-4366-937e-121b64eb42bd",
        "colab": {
          "base_uri": "https://localhost:8080/",
          "height": 278
        }
      },
      "source": [
        "import seaborn as sns\n",
        "import matplotlib.pyplot as plt\n",
        "\n",
        "plt.figure(figsize=(15,5))\n",
        "ax = sns.lmplot(x=\"cases\", y=\"deaths\",\n",
        "                    height=3.5,\n",
        "                    col=\"county\",\n",
        "                    col_wrap=5,\n",
        "                    hue=\"county\", \n",
        "                    palette=\"Set2\",\n",
        "                    data=Maui_County_df)\n",
        "ax.fig.subplots_adjust(wspace=.2)"
      ],
      "execution_count": 40,
      "outputs": [
        {
          "output_type": "display_data",
          "data": {
            "text/plain": [
              "<Figure size 1080x360 with 0 Axes>"
            ]
          },
          "metadata": {
            "tags": []
          }
        },
        {
          "output_type": "display_data",
          "data": {
            "image/png": "[encoded data removed]",
            "text/plain": [
              "<Figure size 1260x252 with 1 Axes>"
            ]
          },
          "metadata": {
            "tags": [],
            "needs_background": "light"
          }
        }
      ]
    },
    {
      "cell_type": "markdown",
      "metadata": {
        "id": "R1CVkmZhcZQp",
        "colab_type": "text"
      },
      "source": [
        "Create a data frame for Honolulu County and display data for past 15 days"
      ]
    },
    {
      "cell_type": "code",
      "metadata": {
        "id": "cJgYJPaey3ip",
        "colab_type": "code",
        "outputId": "24514ca5-ce91-4c9d-efa3-4bcdda4470bf",
        "colab": {
          "base_uri": "https://localhost:8080/",
          "height": 204
        }
      },
      "source": [
        "Honolulu_County_df = df[df[\"county\"]== \"Honolulu\"]\n",
        "Honolulu_County_df.tail()"
      ],
      "execution_count": 52,
      "outputs": [
        {
          "output_type": "execute_result",
          "data": {
            "text/html": [
              "<div>\n",
              "<style scoped>\n",
              "    .dataframe tbody tr th:only-of-type {\n",
              "        vertical-align: middle;\n",
              "    }\n",
              "\n",
              "    .dataframe tbody tr th {\n",
              "        vertical-align: top;\n",
              "    }\n",
              "\n",
              "    .dataframe thead th {\n",
              "        text-align: right;\n",
              "    }\n",
              "</style>\n",
              "<table border=\"1\" class=\"dataframe\">\n",
              "  <thead>\n",
              "    <tr style=\"text-align: right;\">\n",
              "      <th></th>\n",
              "      <th>date</th>\n",
              "      <th>county</th>\n",
              "      <th>cases</th>\n",
              "      <th>deaths</th>\n",
              "    </tr>\n",
              "  </thead>\n",
              "  <tbody>\n",
              "    <tr>\n",
              "      <th>70735</th>\n",
              "      <td>2020-04-19</td>\n",
              "      <td>Honolulu</td>\n",
              "      <td>385</td>\n",
              "      <td>6</td>\n",
              "    </tr>\n",
              "    <tr>\n",
              "      <th>73505</th>\n",
              "      <td>2020-04-20</td>\n",
              "      <td>Honolulu</td>\n",
              "      <td>385</td>\n",
              "      <td>6</td>\n",
              "    </tr>\n",
              "    <tr>\n",
              "      <th>76282</th>\n",
              "      <td>2020-04-21</td>\n",
              "      <td>Honolulu</td>\n",
              "      <td>385</td>\n",
              "      <td>7</td>\n",
              "    </tr>\n",
              "    <tr>\n",
              "      <th>79065</th>\n",
              "      <td>2020-04-22</td>\n",
              "      <td>Honolulu</td>\n",
              "      <td>388</td>\n",
              "      <td>7</td>\n",
              "    </tr>\n",
              "    <tr>\n",
              "      <th>81861</th>\n",
              "      <td>2020-04-23</td>\n",
              "      <td>Honolulu</td>\n",
              "      <td>389</td>\n",
              "      <td>7</td>\n",
              "    </tr>\n",
              "  </tbody>\n",
              "</table>\n",
              "</div>"
            ],
            "text/plain": [
              "             date    county  cases  deaths\n",
              "70735  2020-04-19  Honolulu    385       6\n",
              "73505  2020-04-20  Honolulu    385       6\n",
              "76282  2020-04-21  Honolulu    385       7\n",
              "79065  2020-04-22  Honolulu    388       7\n",
              "81861  2020-04-23  Honolulu    389       7"
            ]
          },
          "metadata": {
            "tags": []
          },
          "execution_count": 52
        }
      ]
    },
    {
      "cell_type": "markdown",
      "metadata": {
        "colab_type": "text",
        "id": "7AZktM9XlcJl"
      },
      "source": [
        "Visualization of Cases on Honolulu County over time"
      ]
    },
    {
      "cell_type": "code",
      "metadata": {
        "colab_type": "code",
        "outputId": "98e6405a-e218-4d2e-dd87-d7758e5c28d6",
        "id": "_88706-llPgp",
        "colab": {
          "base_uri": "https://localhost:8080/",
          "height": 296
        }
      },
      "source": [
        "import seaborn as sns\n",
        "sns.scatterplot(x=\"date\", y=\"cases\", \n",
        "                hue=\"cases\",size=\"cases\", data=Honolulu_County_df)"
      ],
      "execution_count": 51,
      "outputs": [
        {
          "output_type": "execute_result",
          "data": {
            "text/plain": [
              "<matplotlib.axes._subplots.AxesSubplot at 0x7f47f6401ac8>"
            ]
          },
          "metadata": {
            "tags": []
          },
          "execution_count": 51
        },
        {
          "output_type": "display_data",
          "data": {
            "image/png": "[encoded data removed]",
            "text/plain": [
              "<Figure size 432x288 with 1 Axes>"
            ]
          },
          "metadata": {
            "tags": [],
            "needs_background": "light"
          }
        }
      ]
    },
    {
      "cell_type": "code",
      "metadata": {
        "id": "buUfij8LzHBL",
        "colab_type": "code",
        "outputId": "4885beb9-6397-48e5-f808-4bc5db9b93d3",
        "colab": {
          "base_uri": "https://localhost:8080/",
          "height": 296
        }
      },
      "source": [
        "import seaborn as sns\n",
        "sns.scatterplot(x=\"cases\", y=\"deaths\", \n",
        "                hue=\"deaths\",size=\"deaths\", data=Honolulu_County_df)"
      ],
      "execution_count": 50,
      "outputs": [
        {
          "output_type": "execute_result",
          "data": {
            "text/plain": [
              "<matplotlib.axes._subplots.AxesSubplot at 0x7f47f6482668>"
            ]
          },
          "metadata": {
            "tags": []
          },
          "execution_count": 50
        },
        {
          "output_type": "display_data",
          "data": {
            "image/png": "[encoded data removed]",
            "text/plain": [
              "<Figure size 432x288 with 1 Axes>"
            ]
          },
          "metadata": {
            "tags": [],
            "needs_background": "light"
          }
        }
      ]
    },
    {
      "cell_type": "code",
      "metadata": {
        "id": "kccrXnr9zP1y",
        "colab_type": "code",
        "outputId": "29726eaf-26cd-428c-fe34-b64328c01011",
        "colab": {
          "base_uri": "https://localhost:8080/",
          "height": 278
        }
      },
      "source": [
        "import seaborn as sns\n",
        "import matplotlib.pyplot as plt\n",
        "\n",
        "plt.figure(figsize=(15,5))\n",
        "ax = sns.lmplot(x=\"cases\", y=\"deaths\",\n",
        "                    height=3.5,\n",
        "                    col=\"county\",\n",
        "                    col_wrap=5,\n",
        "                    hue=\"county\", \n",
        "                    palette=\"Set2\",\n",
        "                    data=Honolulu_County_df)\n",
        "ax.fig.subplots_adjust(wspace=.2)"
      ],
      "execution_count": 44,
      "outputs": [
        {
          "output_type": "display_data",
          "data": {
            "text/plain": [
              "<Figure size 1080x360 with 0 Axes>"
            ]
          },
          "metadata": {
            "tags": []
          }
        },
        {
          "output_type": "display_data",
          "data": {
            "image/png": "[encoded data removed]",
            "text/plain": [
              "<Figure size 1260x252 with 1 Axes>"
            ]
          },
          "metadata": {
            "tags": [],
            "needs_background": "light"
          }
        }
      ]
    },
    {
      "cell_type": "markdown",
      "metadata": {
        "id": "PMYsf-UqlllZ",
        "colab_type": "text"
      },
      "source": [
        "Analysis of Kauai County"
      ]
    },
    {
      "cell_type": "code",
      "metadata": {
        "id": "heByrJ_vXKIs",
        "colab_type": "code",
        "outputId": "4d089ba7-0dcb-4264-880c-dff8a318899f",
        "colab": {
          "base_uri": "https://localhost:8080/",
          "height": 204
        }
      },
      "source": [
        "Kauai_County_df = df[df[\"county\"]== \"Kauai\"]\n",
        "Kauai_County_df.tail()"
      ],
      "execution_count": 49,
      "outputs": [
        {
          "output_type": "execute_result",
          "data": {
            "text/html": [
              "<div>\n",
              "<style scoped>\n",
              "    .dataframe tbody tr th:only-of-type {\n",
              "        vertical-align: middle;\n",
              "    }\n",
              "\n",
              "    .dataframe tbody tr th {\n",
              "        vertical-align: top;\n",
              "    }\n",
              "\n",
              "    .dataframe thead th {\n",
              "        text-align: right;\n",
              "    }\n",
              "</style>\n",
              "<table border=\"1\" class=\"dataframe\">\n",
              "  <thead>\n",
              "    <tr style=\"text-align: right;\">\n",
              "      <th></th>\n",
              "      <th>date</th>\n",
              "      <th>county</th>\n",
              "      <th>cases</th>\n",
              "      <th>deaths</th>\n",
              "    </tr>\n",
              "  </thead>\n",
              "  <tbody>\n",
              "    <tr>\n",
              "      <th>70736</th>\n",
              "      <td>2020-04-19</td>\n",
              "      <td>Kauai</td>\n",
              "      <td>21</td>\n",
              "      <td>0</td>\n",
              "    </tr>\n",
              "    <tr>\n",
              "      <th>73506</th>\n",
              "      <td>2020-04-20</td>\n",
              "      <td>Kauai</td>\n",
              "      <td>21</td>\n",
              "      <td>0</td>\n",
              "    </tr>\n",
              "    <tr>\n",
              "      <th>76283</th>\n",
              "      <td>2020-04-21</td>\n",
              "      <td>Kauai</td>\n",
              "      <td>21</td>\n",
              "      <td>0</td>\n",
              "    </tr>\n",
              "    <tr>\n",
              "      <th>79066</th>\n",
              "      <td>2020-04-22</td>\n",
              "      <td>Kauai</td>\n",
              "      <td>21</td>\n",
              "      <td>0</td>\n",
              "    </tr>\n",
              "    <tr>\n",
              "      <th>81862</th>\n",
              "      <td>2020-04-23</td>\n",
              "      <td>Kauai</td>\n",
              "      <td>21</td>\n",
              "      <td>0</td>\n",
              "    </tr>\n",
              "  </tbody>\n",
              "</table>\n",
              "</div>"
            ],
            "text/plain": [
              "             date county  cases  deaths\n",
              "70736  2020-04-19  Kauai     21       0\n",
              "73506  2020-04-20  Kauai     21       0\n",
              "76283  2020-04-21  Kauai     21       0\n",
              "79066  2020-04-22  Kauai     21       0\n",
              "81862  2020-04-23  Kauai     21       0"
            ]
          },
          "metadata": {
            "tags": []
          },
          "execution_count": 49
        }
      ]
    },
    {
      "cell_type": "markdown",
      "metadata": {
        "id": "Ox90Uq_BlzvJ",
        "colab_type": "text"
      },
      "source": [
        "Visualization of cases at Kauai County over time"
      ]
    },
    {
      "cell_type": "code",
      "metadata": {
        "colab_type": "code",
        "outputId": "11d2e205-f5af-4561-cfc9-ec5ec9e7aff7",
        "id": "OxqjaBIYls5s",
        "colab": {
          "base_uri": "https://localhost:8080/",
          "height": 296
        }
      },
      "source": [
        "import seaborn as sns\n",
        "sns.scatterplot(x=\"date\", y=\"cases\", \n",
        "                hue=\"cases\",size=\"cases\", data=Kauai_County_df)"
      ],
      "execution_count": 48,
      "outputs": [
        {
          "output_type": "execute_result",
          "data": {
            "text/plain": [
              "<matplotlib.axes._subplots.AxesSubplot at 0x7f47f5f33a90>"
            ]
          },
          "metadata": {
            "tags": []
          },
          "execution_count": 48
        },
        {
          "output_type": "display_data",
          "data": {
            "image/png": "[encoded data removed]",
            "text/plain": [
              "<Figure size 432x288 with 1 Axes>"
            ]
          },
          "metadata": {
            "tags": [],
            "needs_background": "light"
          }
        }
      ]
    }
  ]
}